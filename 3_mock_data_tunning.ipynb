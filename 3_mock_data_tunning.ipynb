{
  "nbformat": 4,
  "nbformat_minor": 0,
  "metadata": {
    "colab": {
      "name": "3_mock_data_tunning.ipynb",
      "provenance": [],
      "collapsed_sections": [
        "W-ccqpguKaEN"
      ]
    },
    "kernelspec": {
      "name": "python3",
      "display_name": "Python 3"
    },
    "language_info": {
      "name": "python"
    }
  },
  "cells": [
    {
      "cell_type": "markdown",
      "source": [
        "### Data tunning"
      ],
      "metadata": {
        "id": "k9xP0torKe0M"
      }
    },
    {
      "cell_type": "code",
      "execution_count": 1,
      "metadata": {
        "id": "SvK2v1WWlnXZ"
      },
      "outputs": [],
      "source": [
        "import pandas as pd\n",
        "import numpy as np\n",
        "import random"
      ]
    },
    {
      "cell_type": "code",
      "source": [
        "datos = pd.read_csv('/content/2_MOCK_DATA.csv')\n",
        "datos = datos.sort_values(by=['hora']).reset_index(drop=True)"
      ],
      "metadata": {
        "id": "9bDzZEhKlqER"
      },
      "execution_count": 2,
      "outputs": []
    },
    {
      "cell_type": "code",
      "source": [
        "# Creo la columna 'consumo_del_dia' con datos coherentes\n",
        "consumo = []\n",
        "for i in range(1000):\n",
        "  consumo.append(i/random.randrange(30,38) + i*0.01)\n",
        "consumo.sort()\n",
        "consumo = pd.DataFrame(consumo)\n",
        "consumo = round(consumo,4)\n",
        "datos = pd.concat([datos, consumo], axis=1)\n",
        "datos.rename(columns = {0:'consumo_del_dia'}, inplace = True)"
      ],
      "metadata": {
        "id": "klGWzZ7CnNnS"
      },
      "execution_count": 3,
      "outputs": []
    },
    {
      "cell_type": "code",
      "source": [
        "# Adecúo el campo 'hora' para que quede cada 30 segundos (como dice la letra)\n",
        "datos['fecha2'] = '2022-07-20'\n",
        "datos['hora'] = pd.date_range(\"12:00:00\", \"20:19:30\", freq=\"30S\").strftime('%H:%M:%S')\n",
        "datos['fecha_hora'] = datos[\"fecha2\"] + ' ' + datos[\"hora\"]\n",
        "datos = datos.loc[:, datos.columns != 'fecha']\n",
        "datos = datos.loc[:, datos.columns != 'fecha2']\n",
        "datos = datos.loc[:, datos.columns != 'hora']"
      ],
      "metadata": {
        "id": "CoHXot0xreMR"
      },
      "execution_count": 4,
      "outputs": []
    },
    {
      "cell_type": "code",
      "source": [
        "# Creo la columna 'bateria_restante' con los datos de bateria1 y bateria2\n",
        "bateria_1 = datos['bateria1']\n",
        "bateria_1 = pd.DataFrame(bateria_1).sort_values(by='bateria1', ascending=False).reset_index(drop=True).tail(500)\n",
        "bateria_1 = list(bateria_1['bateria1'])\n",
        "bateria_2 = datos['bateria2']\n",
        "bateria_2 = pd.DataFrame(bateria_2).sort_values(by='bateria2', ascending=False).reset_index(drop=True).head(500)\n",
        "bateria_2 = list(bateria_2['bateria2'])\n",
        "bateria_restante = bateria_1 + bateria_2\n",
        "bateria_restante = pd.DataFrame(bateria_restante).reset_index(drop=True)\n",
        "datos['bateria'] = bateria_restante\n",
        "datos = datos.loc[:, datos.columns != 'bateria1']\n",
        "datos = datos.loc[:, datos.columns != 'bateria2']"
      ],
      "metadata": {
        "id": "TswwYw9TkUIT"
      },
      "execution_count": 5,
      "outputs": []
    },
    {
      "cell_type": "code",
      "source": [
        "# Creo la columna 'dist_supercharger' con los datos de dist_supercharger1 y dist_supercharger2\n",
        "dist_1 = pd.DataFrame(datos['dist_supercharger1'])\n",
        "dist_1 = dist_1.sort_values(by='dist_supercharger1', ascending=False)\n",
        "dist_1 = dist_1.tail(500).reset_index(drop=True)\n",
        "dist_1 = list(dist_1['dist_supercharger1'])\n",
        "dist_2 = pd.DataFrame(datos['dist_supercharger2'])\n",
        "dist_2 = dist_2.sort_values(by='dist_supercharger2', ascending=False)\n",
        "dist_2 = dist_2.head(500).reset_index(drop=True)\n",
        "dist_2 = list(dist_2['dist_supercharger2'])\n",
        "dist_supercharger = dist_1 + dist_2\n",
        "datos['dist_supercharger'] = dist_supercharger\n",
        "datos = datos.loc[:, datos.columns != 'dist_supercharger1']\n",
        "datos = datos.loc[:, datos.columns != 'dist_supercharger2']"
      ],
      "metadata": {
        "id": "whm8DCyatPrk"
      },
      "execution_count": 6,
      "outputs": []
    },
    {
      "cell_type": "code",
      "source": [
        "# Reordeno las columnas\n",
        "datos = datos[['id_vehiculo', 'fecha_hora', 'ondas', 'temp_motor', 'vibracion', 'presion',\n",
        "               'humedad','voltaje', 'velocidad','consumo_del_dia','bateria', 'dist_supercharger']]"
      ],
      "metadata": {
        "id": "PPxQyGUIjqxX"
      },
      "execution_count": 7,
      "outputs": []
    },
    {
      "cell_type": "code",
      "source": [
        "consumo = []\n",
        "for i in range(500,1000):\n",
        "  consumo.append(datos.at[i,'consumo_del_dia'])\n",
        "\n",
        "# Como el auto esta apagado al cargarse, los sensores no registran información\n",
        "for i in range(500,570):\n",
        "  datos.at[i,'ondas']=np.nan\n",
        "  datos.at[i,'temp_motor']=np.nan\n",
        "  datos.at[i,'vibracion']=np.nan\n",
        "  datos.at[i,'presion']=np.nan\n",
        "  datos.at[i,'humedad']=np.nan\n",
        "  datos.at[i,'voltaje']=np.nan\n",
        "  datos.at[i,'velocidad']=np.nan\n",
        "  datos.at[i,'bateria']=np.nan\n",
        "  datos.at[i,'consumo_del_dia']=np.nan\n",
        "  datos.at[i,'dist_supercharger']=np.nan\n",
        "\n",
        "# Para que al arrancar el auto, consumo_del_dia empiece desde el ultimo valor\n",
        "for i,z in enumerate(range(570,1000)):\n",
        "  datos.at[z, 'consumo_del_dia'] = consumo[i]\n",
        "\n",
        "datos          "
      ],
      "metadata": {
        "id": "48vlNMQporoE"
      },
      "execution_count": null,
      "outputs": []
    },
    {
      "cell_type": "markdown",
      "source": [
        "### CSV"
      ],
      "metadata": {
        "id": "W-ccqpguKaEN"
      }
    },
    {
      "cell_type": "code",
      "source": [
        "datos.to_csv('/content/data_to_elastic.csv')"
      ],
      "metadata": {
        "id": "j27mLBCSLQbf"
      },
      "execution_count": null,
      "outputs": []
    },
    {
      "cell_type": "markdown",
      "source": [
        "### JSON"
      ],
      "metadata": {
        "id": "KEXg5CtFuOMv"
      }
    },
    {
      "cell_type": "code",
      "source": [
        "datos.to_json(\"./4_data_to_elastic.json\", orient=\"records\", lines=True)"
      ],
      "metadata": {
        "id": "cUEtTODs3t5U"
      },
      "execution_count": 9,
      "outputs": []
    }
  ]
}