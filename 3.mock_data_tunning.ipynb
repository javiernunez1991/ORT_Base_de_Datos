{
  "nbformat": 4,
  "nbformat_minor": 0,
  "metadata": {
    "colab": {
      "name": "mock_data_tunning.ipynb",
      "provenance": [],
      "collapsed_sections": [
        "k9xP0torKe0M",
        "W-ccqpguKaEN",
        "KEXg5CtFuOMv"
      ]
    },
    "kernelspec": {
      "name": "python3",
      "display_name": "Python 3"
    },
    "language_info": {
      "name": "python"
    }
  },
  "cells": [
    {
      "cell_type": "markdown",
      "source": [
        "### Data tunning"
      ],
      "metadata": {
        "id": "k9xP0torKe0M"
      }
    },
    {
      "cell_type": "code",
      "execution_count": 1,
      "metadata": {
        "id": "SvK2v1WWlnXZ"
      },
      "outputs": [],
      "source": [
        "import pandas as pd\n",
        "import numpy as np\n",
        "import random"
      ]
    },
    {
      "cell_type": "code",
      "source": [
        "datos = pd.read_csv('/content/2.MOCK_DATA.csv')\n",
        "datos = datos.sort_values(by=['hora']).reset_index(drop=True)"
      ],
      "metadata": {
        "id": "9bDzZEhKlqER"
      },
      "execution_count": 2,
      "outputs": []
    },
    {
      "cell_type": "code",
      "source": [
        "# Creo la columna 'consumo_del_dia' con datos coherentes\n",
        "consumo = []\n",
        "for i in range(1000):\n",
        "  consumo.append(i/random.randrange(30,38) + i*0.01)\n",
        "consumo.sort()\n",
        "consumo = pd.DataFrame(consumo)\n",
        "consumo = round(consumo,4)\n",
        "datos = pd.concat([datos, consumo], axis=1)\n",
        "datos.rename(columns = {0:'consumo_del_dia'}, inplace = True)"
      ],
      "metadata": {
        "id": "klGWzZ7CnNnS"
      },
      "execution_count": 3,
      "outputs": []
    },
    {
      "cell_type": "code",
      "source": [
        "# Adecúo el campo 'hora' para que quede cada 30 segundos (como dice la letra)\n",
        "datos['hora2'] = datos['hora'].str[:6]\n",
        "secs = ['00','30']*500\n",
        "datos['secs'] = secs\n",
        "datos['hora_total'] = datos[\"hora2\"] + datos[\"secs\"]\n",
        "datos = datos.loc[:, datos.columns != 'hora']\n",
        "datos = datos.loc[:, datos.columns != 'hora2']\n",
        "datos = datos.loc[:, datos.columns != 'secs']\n",
        "datos.rename(columns = {'hora_total':'hora'}, inplace = True)\n",
        "datos['fecha_hora'] = datos[\"fecha\"] + ' ' + datos['hora']\n",
        "datos = datos.loc[:, datos.columns != 'fecha']\n",
        "datos = datos.loc[:, datos.columns != 'hora']"
      ],
      "metadata": {
        "id": "CoHXot0xreMR"
      },
      "execution_count": 4,
      "outputs": []
    },
    {
      "cell_type": "code",
      "source": [
        "# Creo la columna 'bateria_resetante' con los datos de bateria1 y bateria2\n",
        "bateria_1 = datos['bateria1'].head(500)\n",
        "bateria_1 = pd.DataFrame(bateria_1).sort_values(by='bateria1', ascending=False).reset_index(drop=True)\n",
        "bateria_1 = list(bateria_1['bateria1'])\n",
        "bateria_2 = datos['bateria2'].head(500)\n",
        "bateria_2 = pd.DataFrame(bateria_2).sort_values(by='bateria2', ascending=False).reset_index(drop=True)\n",
        "bateria_2 = list(bateria_2['bateria2'])\n",
        "bateria_restante = bateria_1 + bateria_2\n",
        "bateria_restante = pd.DataFrame(bateria_restante).reset_index(drop=True)\n",
        "datos['bateria'] = bateria_restante\n",
        "datos = datos.loc[:, datos.columns != 'bateria1']\n",
        "datos = datos.loc[:, datos.columns != 'bateria2']"
      ],
      "metadata": {
        "id": "TswwYw9TkUIT"
      },
      "execution_count": 5,
      "outputs": []
    },
    {
      "cell_type": "code",
      "source": [
        "# Creo la columna 'dist_supercharger' con los datos de dist_supercharger1 y dist_supercharger2\n",
        "dist_1 = pd.DataFrame(datos['dist_supercharger1'])\n",
        "dist_1 = dist_1.sort_values(by='dist_supercharger1', ascending=False)\n",
        "dist_1 = dist_1.head(500).reset_index(drop=True)\n",
        "dist_2 = pd.DataFrame(datos['dist_supercharger2'])\n",
        "dist_2 = dist_2.sort_values(by='dist_supercharger2', ascending=False)\n",
        "dist_2 = dist_2.head(500).reset_index(drop=True)\n",
        "\n",
        "dist_1 = list(dist_1['dist_supercharger1'])\n",
        "dist_2 = list(dist_2['dist_supercharger2'])\n",
        "dist_supercharger = dist_1 + dist_2\n",
        "datos['dist_supercharger'] = dist_supercharger\n",
        "datos = datos.loc[:, datos.columns != 'dist_supercharger1']\n",
        "datos = datos.loc[:, datos.columns != 'dist_supercharger2']"
      ],
      "metadata": {
        "id": "whm8DCyatPrk"
      },
      "execution_count": 6,
      "outputs": []
    },
    {
      "cell_type": "code",
      "source": [
        "# Reordeno las columnas\n",
        "datos = datos[['id_vehiculo', 'fecha_hora', 'ondas', 'temp_motor', 'vibracion', 'presion',\n",
        "               'humedad','voltaje', 'velocidad','consumo_del_dia','bateria', 'dist_supercharger']]\n",
        "datos          "
      ],
      "metadata": {
        "id": "PPxQyGUIjqxX"
      },
      "execution_count": 7,
      "outputs": []
    },
    {
      "cell_type": "markdown",
      "source": [
        "### CSV"
      ],
      "metadata": {
        "id": "W-ccqpguKaEN"
      }
    },
    {
      "cell_type": "code",
      "source": [
        "datos.to_csv('/content/data_to_elastic.csv')"
      ],
      "metadata": {
        "id": "j27mLBCSLQbf"
      },
      "execution_count": null,
      "outputs": []
    },
    {
      "cell_type": "markdown",
      "source": [
        "### JSON"
      ],
      "metadata": {
        "id": "KEXg5CtFuOMv"
      }
    },
    {
      "cell_type": "code",
      "source": [
        "# https://appdividend.com/2022/03/15/pandas-to_json/#:~:text=To%20convert%20the%20object%20to,use%20the%20to_json()%20function.\n",
        "\n",
        "datos.to_json('./data_to_elastic.json', orient='index')\n",
        "datos2 = pd.read_json('/content/data_to_elastic.json')\n",
        "datos2"
      ],
      "metadata": {
        "id": "jjdVxXSnq_uI"
      },
      "execution_count": null,
      "outputs": []
    }
  ]
}